{
 "cells": [
  {
   "cell_type": "markdown",
   "metadata": {},
   "source": [
    "# Leaflet cluster map of talk locations\n",
    "\n",
    "Run this from the _talks/ directory, which contains .md files of all your talks. This scrapes the location YAML field from each .md file, geolocates it with geopy/Nominatim, and uses the getorg library to output data, HTML, and Javascript for a standalone cluster map."
   ]
  },
  {
   "cell_type": "code",
   "execution_count": 2,
   "metadata": {},
   "outputs": [
    {
     "name": "stdout",
     "output_type": "stream",
     "text": [
      "Requirement already up-to-date: getorg in /miniconda3/lib/python3.7/site-packages (0.3.1)\n",
      "Requirement already satisfied, skipping upgrade: retrying in /miniconda3/lib/python3.7/site-packages (from getorg) (1.3.3)\n",
      "Requirement already satisfied, skipping upgrade: pygithub in /miniconda3/lib/python3.7/site-packages (from getorg) (1.43.7)\n",
      "Requirement already satisfied, skipping upgrade: geopy in /miniconda3/lib/python3.7/site-packages (from getorg) (1.20.0)\n",
      "Requirement already satisfied, skipping upgrade: six>=1.7.0 in /miniconda3/lib/python3.7/site-packages (from retrying->getorg) (1.12.0)\n",
      "Requirement already satisfied, skipping upgrade: deprecated in /miniconda3/lib/python3.7/site-packages (from pygithub->getorg) (1.2.5)\n",
      "Requirement already satisfied, skipping upgrade: requests>=2.14.0 in /miniconda3/lib/python3.7/site-packages (from pygithub->getorg) (2.21.0)\n",
      "Requirement already satisfied, skipping upgrade: pyjwt in /miniconda3/lib/python3.7/site-packages (from pygithub->getorg) (1.7.1)\n",
      "Requirement already satisfied, skipping upgrade: geographiclib<2,>=1.49 in /miniconda3/lib/python3.7/site-packages (from geopy->getorg) (1.49)\n",
      "Requirement already satisfied, skipping upgrade: wrapt<2,>=1 in /miniconda3/lib/python3.7/site-packages (from deprecated->pygithub->getorg) (1.11.1)\n",
      "Requirement already satisfied, skipping upgrade: urllib3<1.25,>=1.21.1 in /miniconda3/lib/python3.7/site-packages (from requests>=2.14.0->pygithub->getorg) (1.24.1)\n",
      "Requirement already satisfied, skipping upgrade: certifi>=2017.4.17 in /miniconda3/lib/python3.7/site-packages (from requests>=2.14.0->pygithub->getorg) (2019.3.9)\n",
      "Requirement already satisfied, skipping upgrade: chardet<3.1.0,>=3.0.2 in /miniconda3/lib/python3.7/site-packages (from requests>=2.14.0->pygithub->getorg) (3.0.4)\n",
      "Requirement already satisfied, skipping upgrade: idna<2.9,>=2.5 in /miniconda3/lib/python3.7/site-packages (from requests>=2.14.0->pygithub->getorg) (2.8)\n"
     ]
    }
   ],
   "source": [
    "!pip install getorg --upgrade\n",
    "import glob\n",
    "import getorg\n",
    "from geopy import Nominatim"
   ]
  },
  {
   "cell_type": "code",
   "execution_count": 3,
   "metadata": {},
   "outputs": [],
   "source": [
    "g = glob.glob(\"*.md\")"
   ]
  },
  {
   "cell_type": "code",
   "execution_count": 4,
   "metadata": {},
   "outputs": [
    {
     "name": "stderr",
     "output_type": "stream",
     "text": [
      "/miniconda3/lib/python3.7/site-packages/ipykernel_launcher.py:1: DeprecationWarning: Using Nominatim with the default \"geopy/1.20.0\" `user_agent` is strongly discouraged, as it violates Nominatim's ToS https://operations.osmfoundation.org/policies/nominatim/ and may possibly cause 403 and 429 HTTP errors. Please specify a custom `user_agent` with `Nominatim(user_agent=\"my-application\")` or by overriding the default `user_agent`: `geopy.geocoders.options.default_user_agent = \"my-application\"`. In geopy 2.0 this will become an exception.\n",
      "  \"\"\"Entry point for launching an IPython kernel.\n"
     ]
    }
   ],
   "source": [
    "geocoder = Nominatim()\n",
    "location_dict = {}\n",
    "location = \"\"\n",
    "permalink = \"\"\n",
    "title = \"\""
   ]
  },
  {
   "cell_type": "code",
   "execution_count": 5,
   "metadata": {},
   "outputs": [
    {
     "name": "stdout",
     "output_type": "stream",
     "text": [
      " \n",
      " None\n",
      " \n",
      " None\n",
      " \n",
      " None\n"
     ]
    }
   ],
   "source": [
    "\n",
    "for file in g:\n",
    "    with open(file, 'r') as f:\n",
    "        lines = f.read()\n",
    "        if lines.find('location: \"') > 1:\n",
    "            loc_start = lines.find('location: \"') + 11\n",
    "            lines_trim = lines[loc_start:]\n",
    "            loc_end = lines_trim.find('\"')\n",
    "            location = lines_trim[:loc_end]\n",
    "                            \n",
    "           \n",
    "        location_dict[location] = geocoder.geocode(location)\n",
    "        print(location, \"\\n\", location_dict[location])\n"
   ]
  },
  {
   "cell_type": "code",
   "execution_count": 6,
   "metadata": {},
   "outputs": [
    {
     "data": {
      "text/plain": [
       "'Written map to ../talkmap/'"
      ]
     },
     "execution_count": 6,
     "metadata": {},
     "output_type": "execute_result"
    }
   ],
   "source": [
    "m = getorg.orgmap.create_map_obj()\n",
    "getorg.orgmap.output_html_cluster_map(location_dict, folder_name=\"../talkmap\", hashed_usernames=False)"
   ]
  },
  {
   "cell_type": "code",
   "execution_count": null,
   "metadata": {
    "collapsed": true
   },
   "outputs": [],
   "source": []
  }
 ],
 "metadata": {
  "anaconda-cloud": {},
  "kernelspec": {
   "display_name": "Python 3",
   "language": "python",
   "name": "python3"
  },
  "language_info": {
   "codemirror_mode": {
    "name": "ipython",
    "version": 3
   },
   "file_extension": ".py",
   "mimetype": "text/x-python",
   "name": "python",
   "nbconvert_exporter": "python",
   "pygments_lexer": "ipython3",
   "version": "3.7.3"
  }
 },
 "nbformat": 4,
 "nbformat_minor": 1
}
